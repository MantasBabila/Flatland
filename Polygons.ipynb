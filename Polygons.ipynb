{
  "nbformat": 4,
  "nbformat_minor": 0,
  "metadata": {
    "colab": {
      "provenance": [],
      "gpuType": "T4"
    },
    "kernelspec": {
      "name": "python3",
      "display_name": "Python 3"
    },
    "language_info": {
      "name": "python"
    },
    "accelerator": "GPU"
  },
  "cells": [
    {
      "cell_type": "code",
      "execution_count": null,
      "metadata": {
        "id": "auxXj2AuGABs"
      },
      "outputs": [],
      "source": [
        "from collections import Counter\n",
        "import numpy as np\n",
        "import pandas as pd\n",
        "import matplotlib.pyplot as plt\n",
        "import tensorflow.keras as keras\n",
        "from tensorflow.keras.layers import Dense, Input, Flatten, Conv2D, BatchNormalization, Activation, Dropout, MaxPooling2D, Layer\n",
        "from tensorflow.keras.models import Sequential\n",
        "from tensorflow.keras.optimizers import Adam\n",
        "from tensorflow.keras.callbacks import TensorBoard\n",
        "from PIL import Image\n",
        "from sklearn.model_selection import train_test_split\n",
        "import tensorflow as tf\n"
      ]
    },
    {
      "cell_type": "code",
      "source": [
        "\n",
        "data = np.load('/content/flatland_train.npz')\n",
        "X = data['X']\n",
        "y = data['y']\n",
        "\n",
        "y[y != 0] -= 2    # Correct labels so that triangle is mapped to class 1\n",
        "X = X / 255.      # Scale down to range [0, 1]\n",
        "\n",
        "# Construct and train your model (don't forget train/test split and other tricks)\n",
        "# model = ..."
      ],
      "metadata": {
        "id": "WjtnJUs4IYmC"
      },
      "execution_count": null,
      "outputs": []
    },
    {
      "cell_type": "code",
      "source": [
        "def plot(X):\n",
        "    plt.imshow(X, cmap='gray', vmin=0, vmax=1)\n",
        "    plt.axis('off')\n",
        "\n",
        "def apply_filter(X, F):\n",
        "    x, y = X.shape\n",
        "    filter_x, filter_y = F.shape\n",
        "    X_with_filter = np.zeros(shape=(x - filter_x, y - filter_y))\n",
        "\n",
        "    for i in range(x - filter_x):\n",
        "        for j in range(y - filter_y):\n",
        "            X_with_filter[i, j] = (X[i:(i+filter_x), j:(j+filter_y)] * F).sum()\n",
        "\n",
        "    return X_with_filter"
      ],
      "metadata": {
        "id": "3U5SgdVNbWGc"
      },
      "execution_count": null,
      "outputs": []
    },
    {
      "cell_type": "code",
      "source": [
        "X_train, X_test, y_train, y_test = train_test_split(\n",
        "         X, y,\n",
        "         test_size = 0.2, random_state = 42\n",
        ")"
      ],
      "metadata": {
        "id": "fHca6sSzPp1T"
      },
      "execution_count": null,
      "outputs": []
    },
    {
      "cell_type": "code",
      "source": [
        "def add_black_pixels(img): #previous idea, didn't use it\n",
        "\n",
        "    color = np.minimum(np.min(img[:, 0]), np.min(img[0, :]))\n",
        "\n",
        "    # Get the dimensions of the original image\n",
        "    height, width = img.shape[:2]\n",
        "\n",
        "    # Define the amount of padding\n",
        "    padding_size = 2\n",
        "\n",
        "    # Create a new image with increased dimensions\n",
        "    new_height = height + 2 * padding_size\n",
        "    new_width = width + 2 * padding_size\n",
        "\n",
        "    # Create a black canvas with increased dimensions\n",
        "    new_img = tf.Tensor((new_height, new_width, 1), color, dtype=float64)\n",
        "\n",
        "    # Place the original image at an offset to add black pixels\n",
        "    new_img[padding_size:new_height-padding_size, padding_size:new_width-padding_size] = img\n",
        "\n",
        "    return new_img"
      ],
      "metadata": {
        "id": "TlYOIlzn9fAi"
      },
      "execution_count": null,
      "outputs": []
    },
    {
      "cell_type": "code",
      "source": [
        "X_train = X_train.reshape(X_train.shape[0], 50, 50, 1)\n",
        "X_test = X_test.reshape(X_test.shape[0], 50, 50, 1)"
      ],
      "metadata": {
        "id": "9pnIaVWtYHY1"
      },
      "execution_count": null,
      "outputs": []
    },
    {
      "cell_type": "code",
      "source": [
        "img = X_train[12]\n",
        "\n",
        "color = np.minimum(np.min(img[:, 0]), np.min(img[0, :]))\n",
        "\n",
        "color"
      ],
      "metadata": {
        "colab": {
          "base_uri": "https://localhost:8080/"
        },
        "id": "VcbywGqLGLvy",
        "outputId": "a2223833-614f-4980-bb77-fcf77a0fcabb"
      },
      "execution_count": null,
      "outputs": [
        {
          "output_type": "execute_result",
          "data": {
            "text/plain": [
              "0.0"
            ]
          },
          "metadata": {},
          "execution_count": 9
        }
      ]
    },
    {
      "cell_type": "code",
      "source": [
        "plt.figure(figsize=(2, 2))\n",
        "plt.imshow(X_train[3])"
      ],
      "metadata": {
        "colab": {
          "base_uri": "https://localhost:8080/",
          "height": 236
        },
        "id": "-f7J2YZEZ7dh",
        "outputId": "2707071d-835f-4031-d610-ddf3be663956"
      },
      "execution_count": null,
      "outputs": [
        {
          "output_type": "execute_result",
          "data": {
            "text/plain": [
              "<matplotlib.image.AxesImage at 0x7e2ebcb2f670>"
            ]
          },
          "metadata": {},
          "execution_count": 10
        },
        {
          "output_type": "display_data",
          "data": {
            "text/plain": [
              "<Figure size 200x200 with 1 Axes>"
            ],
            "image/png": "[encoded data removed]"
          },
          "metadata": {}
        }
      ]
    },
    {
      "cell_type": "code",
      "source": [
        "from PIL import Image\n",
        "import cv2"
      ],
      "metadata": {
        "id": "QOyoBi0rbLWb"
      },
      "execution_count": null,
      "outputs": []
    },
    {
      "cell_type": "code",
      "source": [
        "def corners(img): #previous idea, didn't use it\n",
        "\n",
        "    # Convert the image to float32\n",
        "    img = np.float32(img)\n",
        "\n",
        "    # Apply Harris corner detection\n",
        "    harris_corners = cv2.cornerHarris(img, blockSize=2, ksize=3, k=0.04)\n",
        "\n",
        "    # Dilate the corners to make them visible\n",
        "    harris_corners = cv2.dilate(harris_corners, None)\n",
        "\n",
        "    # Threshold for an optimal value, it may vary depending on the image\n",
        "    threshold = 0.01 * harris_corners.max()\n",
        "\n",
        "    # Create an image copy to mark the corners\n",
        "    marked_img = cv2.cvtColor(img, cv2.COLOR_GRAY2BGR)\n",
        "    marked_img[harris_corners > threshold] = [0, 0, 255]  # Mark corners in red\n",
        "\n",
        "    return marked_img"
      ],
      "metadata": {
        "id": "rPviOga371dY"
      },
      "execution_count": null,
      "outputs": []
    },
    {
      "cell_type": "code",
      "source": [
        "img = np.float32(X_train[5])\n",
        "img.shape"
      ],
      "metadata": {
        "colab": {
          "base_uri": "https://localhost:8080/"
        },
        "id": "Agg6ePr5DPIC",
        "outputId": "2018a162-73b1-4e76-f507-7149a3c117c5"
      },
      "execution_count": null,
      "outputs": [
        {
          "output_type": "execute_result",
          "data": {
            "text/plain": [
              "(50, 50, 1)"
            ]
          },
          "metadata": {},
          "execution_count": 13
        }
      ]
    },
    {
      "cell_type": "code",
      "source": [
        "plt.imshow(corners(X_train[6]))"
      ],
      "metadata": {
        "colab": {
          "base_uri": "https://localhost:8080/",
          "height": 468
        },
        "id": "fRR7yn-ZavRY",
        "outputId": "8cc49603-0566-4d0c-e164-c019d509bbf1"
      },
      "execution_count": null,
      "outputs": [
        {
          "output_type": "stream",
          "name": "stderr",
          "text": [
            "WARNING:matplotlib.image:Clipping input data to the valid range for imshow with RGB data ([0..1] for floats or [0..255] for integers).\n"
          ]
        },
        {
          "output_type": "execute_result",
          "data": {
            "text/plain": [
              "<matplotlib.image.AxesImage at 0x7e2ea5976530>"
            ]
          },
          "metadata": {},
          "execution_count": 14
        },
        {
          "output_type": "display_data",
          "data": {
            "text/plain": [
              "<Figure size 640x480 with 1 Axes>"
            ],
            "image/png": "[encoded data removed]"
          },
          "metadata": {}
        }
      ]
    },
    {
      "cell_type": "code",
      "source": [
        "def update_pixels(image): #previous idea, didn't use it\n",
        "    # Threshold the image: set pixels > 0.1 to 1\n",
        "    threshold_value = 0.1\n",
        "    thresholded_image = np.where(image > threshold_value, 1, 0)\n",
        "\n",
        "    return thresholded_image"
      ],
      "metadata": {
        "id": "tG_q6F1wjmdm"
      },
      "execution_count": null,
      "outputs": []
    },
    {
      "cell_type": "code",
      "source": [
        "def unblur_edge(image): #previous idea, didn't use it\n",
        "    img = np.uint8(image)\n",
        "\n",
        "    # Apply Gaussian blur to the whole image (for demonstration)\n",
        "    blurred = cv2.GaussianBlur(img, (15, 15), 0)\n",
        "\n",
        "    # Perform edge detection using Canny edge detector\n",
        "    edges = cv2.Canny(blurred, 30, 150)\n",
        "\n",
        "    # Dilate the edges to make them more visible\n",
        "    kernel = np.ones((3, 3), np.uint8)\n",
        "    dilated_edges = cv2.dilate(edges, kernel, iterations=1)\n",
        "\n",
        "    # Invert the edges to use as a mask\n",
        "    mask = cv2.bitwise_not(dilated_edges)\n",
        "\n",
        "    # Apply deblurring to the edges only\n",
        "    deblurred_edges = cv2.deconvolve(blurred, np.ones((15, 15), np.float32))\n",
        "\n",
        "    # Combine the deblurred edges with the original image using the mask\n",
        "    result = cv2.bitwise_and(image, image, mask=mask)\n",
        "    result += cv2.bitwise_and(deblurred_edges[1], deblurred_edges[1], mask=dilated_edges)\n",
        "\n",
        "    return result"
      ],
      "metadata": {
        "id": "6oMDaqHnmsR_"
      },
      "execution_count": null,
      "outputs": []
    },
    {
      "cell_type": "code",
      "source": [
        "plt.imshow(update_pixels(X_train[9]))"
      ],
      "metadata": {
        "colab": {
          "base_uri": "https://localhost:8080/",
          "height": 450
        },
        "id": "HJPHsmXnijd7",
        "outputId": "de56421a-0939-42b7-c14e-30c6852d1a1f"
      },
      "execution_count": null,
      "outputs": [
        {
          "output_type": "execute_result",
          "data": {
            "text/plain": [
              "<matplotlib.image.AxesImage at 0x7e2ea59efd00>"
            ]
          },
          "metadata": {},
          "execution_count": 33
        },
        {
          "output_type": "display_data",
          "data": {
            "text/plain": [
              "<Figure size 640x480 with 1 Axes>"
            ],
            "image/png": "[encoded data removed]"
          },
          "metadata": {}
        }
      ]
    },
    {
      "cell_type": "code",
      "source": [
        "X_train_aug = update_images(X_train)"
      ],
      "metadata": {
        "id": "DtLpnhHJrlXv"
      },
      "execution_count": null,
      "outputs": []
    },
    {
      "cell_type": "code",
      "source": [
        "from tensorflow.keras.preprocessing.image import ImageDataGenerator"
      ],
      "metadata": {
        "id": "UATptf_b1pA9"
      },
      "execution_count": null,
      "outputs": []
    },
    {
      "cell_type": "code",
      "source": [
        "plt.imshow(X_train_aug[5])"
      ],
      "metadata": {
        "colab": {
          "base_uri": "https://localhost:8080/",
          "height": 450
        },
        "id": "XJmncw0KyeAx",
        "outputId": "0d851dcf-60f9-47bb-f039-f8da226d2997"
      },
      "execution_count": null,
      "outputs": [
        {
          "output_type": "execute_result",
          "data": {
            "text/plain": [
              "<matplotlib.image.AxesImage at 0x7e2ea4b75450>"
            ]
          },
          "metadata": {},
          "execution_count": 87
        },
        {
          "output_type": "display_data",
          "data": {
            "text/plain": [
              "<Figure size 640x480 with 1 Axes>"
            ],
            "image/png": "[encoded data removed]"
          },
          "metadata": {}
        }
      ]
    },
    {
      "cell_type": "code",
      "source": [
        "X_train_aug, X_test_aug, y_train_aug, y_test_aug = train_test_split(\n",
        "         X_aug, y,\n",
        "         test_size = 0.2, random_state = 42\n",
        ")"
      ],
      "metadata": {
        "id": "jQZrtZZos8Bj"
      },
      "execution_count": null,
      "outputs": []
    },
    {
      "cell_type": "code",
      "source": [
        "datagen = ImageDataGenerator(rotation_range=45,\n",
        "    width_shift_range=0.2,\n",
        "    height_shift_range=0.2,\n",
        "    zoom_range=0.2\n",
        ")"
      ],
      "metadata": {
        "id": "_bhPMgbKAI7P"
      },
      "execution_count": null,
      "outputs": []
    },
    {
      "cell_type": "code",
      "source": [
        "generator = datagen.flow(\n",
        "    X_train,\n",
        "    y_train,\n",
        "    batch_size = 256)  #images to generate in a batch"
      ],
      "metadata": {
        "id": "Jcw8PdbCHTYW"
      },
      "execution_count": null,
      "outputs": []
    },
    {
      "cell_type": "code",
      "source": [
        "model = Sequential()\n",
        "model.add(Conv2D(10, kernel_size = (5, 5), input_shape = [50, 50, 1]))\n",
        "model.add(MaxPooling2D())\n",
        "model.add(Conv2D(10, kernel_size = (5, 5)))\n",
        "model.add(MaxPooling2D())\n",
        "model.add(Dropout(0.25))\n",
        "model.add(Flatten())\n",
        "model.add(Dense(128, activation = 'relu'))\n",
        "model.add(Dense(64, activation = 'relu'))\n",
        "model.add(Dense(32, activation = 'relu'))\n",
        "model.add(Dense(5, activation = 'softmax'))\n",
        "model.compile(loss = 'sparse_categorical_crossentropy',\n",
        "              optimizer = Adam(learning_rate = 3e-4),\n",
        "              metrics = ['accuracy']) # maybe SparseCategoricalAccuracy()\n",
        "model.summary()"
      ],
      "metadata": {
        "id": "nxyoZEwBUa2o",
        "colab": {
          "base_uri": "https://localhost:8080/"
        },
        "outputId": "27cc92d8-caeb-4371-8006-11efab951d40"
      },
      "execution_count": null,
      "outputs": [
        {
          "output_type": "stream",
          "name": "stdout",
          "text": [
            "Model: \"sequential_5\"\n",
            "_________________________________________________________________\n",
            " Layer (type)                Output Shape              Param #   \n",
            "=================================================================\n",
            " conv2d_10 (Conv2D)          (None, 46, 46, 10)        260       \n",
            "                                                                 \n",
            " max_pooling2d_10 (MaxPooli  (None, 23, 23, 10)        0         \n",
            " ng2D)                                                           \n",
            "                                                                 \n",
            " conv2d_11 (Conv2D)          (None, 19, 19, 10)        2510      \n",
            "                                                                 \n",
            " max_pooling2d_11 (MaxPooli  (None, 9, 9, 10)          0         \n",
            " ng2D)                                                           \n",
            "                                                                 \n",
            " dropout_5 (Dropout)         (None, 9, 9, 10)          0         \n",
            "                                                                 \n",
            " flatten_5 (Flatten)         (None, 810)               0         \n",
            "                                                                 \n",
            " dense_20 (Dense)            (None, 128)               103808    \n",
            "                                                                 \n",
            " dense_21 (Dense)            (None, 64)                8256      \n",
            "                                                                 \n",
            " dense_22 (Dense)            (None, 32)                2080      \n",
            "                                                                 \n",
            " dense_23 (Dense)            (None, 5)                 165       \n",
            "                                                                 \n",
            "=================================================================\n",
            "Total params: 117079 (457.34 KB)\n",
            "Trainable params: 117079 (457.34 KB)\n",
            "Non-trainable params: 0 (0.00 Byte)\n",
            "_________________________________________________________________\n"
          ]
        }
      ]
    },
    {
      "cell_type": "code",
      "source": [
        "loss = model.fit(X_train, y_train, epochs=50, batch_size=64, validation_split=0.2)"
      ],
      "metadata": {
        "id": "1j5muYLX5sdN",
        "colab": {
          "base_uri": "https://localhost:8080/"
        },
        "outputId": "3d09a01f-b9f5-4da7-ce45-1f71dfffab98"
      },
      "execution_count": null,
      "outputs": [
        {
          "output_type": "stream",
          "name": "stdout",
          "text": [
            "Epoch 1/50\n",
            "100/100 [==============================] - 2s 7ms/step - loss: 1.4162 - accuracy: 0.4194 - val_loss: 1.2088 - val_accuracy: 0.4925\n",
            "Epoch 2/50\n",
            "100/100 [==============================] - 1s 5ms/step - loss: 1.1565 - accuracy: 0.5073 - val_loss: 1.1113 - val_accuracy: 0.5281\n",
            "Epoch 3/50\n",
            "100/100 [==============================] - 1s 5ms/step - loss: 1.1052 - accuracy: 0.5267 - val_loss: 1.0698 - val_accuracy: 0.5350\n",
            "Epoch 4/50\n",
            "100/100 [==============================] - 1s 5ms/step - loss: 1.0667 - accuracy: 0.5342 - val_loss: 1.0436 - val_accuracy: 0.5562\n",
            "Epoch 5/50\n",
            "100/100 [==============================] - 1s 5ms/step - loss: 1.0538 - accuracy: 0.5517 - val_loss: 1.0196 - val_accuracy: 0.5731\n",
            "Epoch 6/50\n",
            "100/100 [==============================] - 1s 5ms/step - loss: 1.0059 - accuracy: 0.5653 - val_loss: 0.9812 - val_accuracy: 0.5875\n",
            "Epoch 7/50\n",
            "100/100 [==============================] - 1s 5ms/step - loss: 0.9776 - accuracy: 0.5839 - val_loss: 0.9435 - val_accuracy: 0.6019\n",
            "Epoch 8/50\n",
            "100/100 [==============================] - 1s 5ms/step - loss: 0.9624 - accuracy: 0.5906 - val_loss: 0.9440 - val_accuracy: 0.6100\n",
            "Epoch 9/50\n",
            "100/100 [==============================] - 1s 5ms/step - loss: 0.9041 - accuracy: 0.6194 - val_loss: 0.9300 - val_accuracy: 0.6275\n",
            "Epoch 10/50\n",
            "100/100 [==============================] - 1s 5ms/step - loss: 0.8502 - accuracy: 0.6483 - val_loss: 0.8196 - val_accuracy: 0.6750\n",
            "Epoch 11/50\n",
            "100/100 [==============================] - 1s 5ms/step - loss: 0.8068 - accuracy: 0.6684 - val_loss: 0.7588 - val_accuracy: 0.7075\n",
            "Epoch 12/50\n",
            "100/100 [==============================] - 1s 6ms/step - loss: 0.7505 - accuracy: 0.6938 - val_loss: 0.7052 - val_accuracy: 0.7269\n",
            "Epoch 13/50\n",
            "100/100 [==============================] - 1s 7ms/step - loss: 0.7100 - accuracy: 0.7123 - val_loss: 0.7853 - val_accuracy: 0.6731\n",
            "Epoch 14/50\n",
            "100/100 [==============================] - 1s 7ms/step - loss: 0.6657 - accuracy: 0.7352 - val_loss: 0.6115 - val_accuracy: 0.7800\n",
            "Epoch 15/50\n",
            "100/100 [==============================] - 1s 7ms/step - loss: 0.6281 - accuracy: 0.7511 - val_loss: 0.5973 - val_accuracy: 0.7831\n",
            "Epoch 16/50\n",
            "100/100 [==============================] - 1s 7ms/step - loss: 0.5876 - accuracy: 0.7719 - val_loss: 0.5453 - val_accuracy: 0.8100\n",
            "Epoch 17/50\n",
            "100/100 [==============================] - 1s 8ms/step - loss: 0.5708 - accuracy: 0.7825 - val_loss: 0.5718 - val_accuracy: 0.8000\n",
            "Epoch 18/50\n",
            "100/100 [==============================] - 1s 5ms/step - loss: 0.5560 - accuracy: 0.7872 - val_loss: 0.5060 - val_accuracy: 0.8363\n",
            "Epoch 19/50\n",
            "100/100 [==============================] - 1s 5ms/step - loss: 0.5029 - accuracy: 0.8083 - val_loss: 0.4870 - val_accuracy: 0.8313\n",
            "Epoch 20/50\n",
            "100/100 [==============================] - 1s 5ms/step - loss: 0.4950 - accuracy: 0.8103 - val_loss: 0.4669 - val_accuracy: 0.8450\n",
            "Epoch 21/50\n",
            "100/100 [==============================] - 1s 5ms/step - loss: 0.4748 - accuracy: 0.8236 - val_loss: 0.5030 - val_accuracy: 0.8381\n",
            "Epoch 22/50\n",
            "100/100 [==============================] - 1s 5ms/step - loss: 0.4589 - accuracy: 0.8278 - val_loss: 0.4496 - val_accuracy: 0.8500\n",
            "Epoch 23/50\n",
            "100/100 [==============================] - 1s 5ms/step - loss: 0.4358 - accuracy: 0.8403 - val_loss: 0.4285 - val_accuracy: 0.8594\n",
            "Epoch 24/50\n",
            "100/100 [==============================] - 1s 5ms/step - loss: 0.4096 - accuracy: 0.8487 - val_loss: 0.4586 - val_accuracy: 0.8537\n",
            "Epoch 25/50\n",
            "100/100 [==============================] - 1s 5ms/step - loss: 0.3978 - accuracy: 0.8566 - val_loss: 0.4236 - val_accuracy: 0.8750\n",
            "Epoch 26/50\n",
            "100/100 [==============================] - 1s 5ms/step - loss: 0.3711 - accuracy: 0.8652 - val_loss: 0.3798 - val_accuracy: 0.8825\n",
            "Epoch 27/50\n",
            "100/100 [==============================] - 1s 5ms/step - loss: 0.3652 - accuracy: 0.8695 - val_loss: 0.3679 - val_accuracy: 0.8931\n",
            "Epoch 28/50\n",
            "100/100 [==============================] - 1s 5ms/step - loss: 0.3500 - accuracy: 0.8794 - val_loss: 0.3658 - val_accuracy: 0.9025\n",
            "Epoch 29/50\n",
            "100/100 [==============================] - 1s 5ms/step - loss: 0.3424 - accuracy: 0.8814 - val_loss: 0.3513 - val_accuracy: 0.8944\n",
            "Epoch 30/50\n",
            "100/100 [==============================] - 1s 5ms/step - loss: 0.3170 - accuracy: 0.8961 - val_loss: 0.3739 - val_accuracy: 0.8863\n",
            "Epoch 31/50\n",
            "100/100 [==============================] - 1s 5ms/step - loss: 0.3163 - accuracy: 0.8905 - val_loss: 0.3551 - val_accuracy: 0.9031\n",
            "Epoch 32/50\n",
            "100/100 [==============================] - 1s 5ms/step - loss: 0.2997 - accuracy: 0.8972 - val_loss: 0.3518 - val_accuracy: 0.9019\n",
            "Epoch 33/50\n",
            "100/100 [==============================] - 1s 5ms/step - loss: 0.2920 - accuracy: 0.9027 - val_loss: 0.3314 - val_accuracy: 0.9162\n",
            "Epoch 34/50\n",
            "100/100 [==============================] - 1s 5ms/step - loss: 0.2974 - accuracy: 0.8989 - val_loss: 0.3691 - val_accuracy: 0.8950\n",
            "Epoch 35/50\n",
            "100/100 [==============================] - 1s 5ms/step - loss: 0.2751 - accuracy: 0.9089 - val_loss: 0.3321 - val_accuracy: 0.9137\n",
            "Epoch 36/50\n",
            "100/100 [==============================] - 1s 6ms/step - loss: 0.2569 - accuracy: 0.9186 - val_loss: 0.3201 - val_accuracy: 0.9144\n",
            "Epoch 37/50\n",
            "100/100 [==============================] - 1s 8ms/step - loss: 0.2541 - accuracy: 0.9166 - val_loss: 0.3218 - val_accuracy: 0.9025\n",
            "Epoch 38/50\n",
            "100/100 [==============================] - 1s 7ms/step - loss: 0.2526 - accuracy: 0.9189 - val_loss: 0.3119 - val_accuracy: 0.9200\n",
            "Epoch 39/50\n",
            "100/100 [==============================] - 1s 8ms/step - loss: 0.2318 - accuracy: 0.9269 - val_loss: 0.3305 - val_accuracy: 0.9175\n",
            "Epoch 40/50\n",
            "100/100 [==============================] - 1s 7ms/step - loss: 0.2265 - accuracy: 0.9230 - val_loss: 0.2987 - val_accuracy: 0.9300\n",
            "Epoch 41/50\n",
            "100/100 [==============================] - 1s 6ms/step - loss: 0.2246 - accuracy: 0.9234 - val_loss: 0.2922 - val_accuracy: 0.9250\n",
            "Epoch 42/50\n",
            "100/100 [==============================] - 1s 5ms/step - loss: 0.2066 - accuracy: 0.9366 - val_loss: 0.3027 - val_accuracy: 0.9231\n",
            "Epoch 43/50\n",
            "100/100 [==============================] - 1s 5ms/step - loss: 0.2279 - accuracy: 0.9245 - val_loss: 0.3203 - val_accuracy: 0.9169\n",
            "Epoch 44/50\n",
            "100/100 [==============================] - 1s 5ms/step - loss: 0.1958 - accuracy: 0.9341 - val_loss: 0.3256 - val_accuracy: 0.9175\n",
            "Epoch 45/50\n",
            "100/100 [==============================] - 1s 5ms/step - loss: 0.1936 - accuracy: 0.9336 - val_loss: 0.2961 - val_accuracy: 0.9244\n",
            "Epoch 46/50\n",
            "100/100 [==============================] - 1s 5ms/step - loss: 0.1919 - accuracy: 0.9328 - val_loss: 0.2873 - val_accuracy: 0.9369\n",
            "Epoch 47/50\n",
            "100/100 [==============================] - 1s 5ms/step - loss: 0.1823 - accuracy: 0.9392 - val_loss: 0.3088 - val_accuracy: 0.9256\n",
            "Epoch 48/50\n",
            "100/100 [==============================] - 1s 5ms/step - loss: 0.1705 - accuracy: 0.9450 - val_loss: 0.2779 - val_accuracy: 0.9394\n",
            "Epoch 49/50\n",
            "100/100 [==============================] - 1s 5ms/step - loss: 0.1657 - accuracy: 0.9466 - val_loss: 0.3018 - val_accuracy: 0.9262\n",
            "Epoch 50/50\n",
            "100/100 [==============================] - 1s 5ms/step - loss: 0.1673 - accuracy: 0.9450 - val_loss: 0.2828 - val_accuracy: 0.9344\n"
          ]
        }
      ]
    },
    {
      "cell_type": "code",
      "source": [
        "pred = model.predict(X_test).argmax(axis=1)\n",
        "print('Accuracy on test set - {0:.02%}'.format((pred == y_test).mean()))"
      ],
      "metadata": {
        "colab": {
          "base_uri": "https://localhost:8080/"
        },
        "id": "QByee6pEF2kd",
        "outputId": "6a1d8b2f-0980-4567-806f-b95adbcdb4bb"
      },
      "execution_count": null,
      "outputs": [
        {
          "output_type": "stream",
          "name": "stdout",
          "text": [
            "63/63 [==============================] - 0s 2ms/step\n",
            "Accuracy on test set - 98.40%\n"
          ]
        }
      ]
    },
    {
      "cell_type": "code",
      "source": [
        "loss = model.fit(generator, epochs=100, batch_size=256)"
      ],
      "metadata": {
        "colab": {
          "base_uri": "https://localhost:8080/"
        },
        "id": "DuSKgNEUsUx2",
        "outputId": "91ba28c6-f2a6-4fc7-81ec-3c916dd42c08"
      },
      "execution_count": null,
      "outputs": [
        {
          "output_type": "stream",
          "name": "stdout",
          "text": [
            "Epoch 1/100\n",
            "32/32 [==============================] - 3s 97ms/step - loss: 0.3466 - accuracy: 0.8960\n",
            "Epoch 2/100\n",
            "32/32 [==============================] - 4s 113ms/step - loss: 0.3376 - accuracy: 0.9004\n",
            "Epoch 3/100\n",
            "32/32 [==============================] - 4s 130ms/step - loss: 0.3506 - accuracy: 0.8957\n",
            "Epoch 4/100\n",
            "32/32 [==============================] - 3s 99ms/step - loss: 0.3446 - accuracy: 0.8873\n",
            "Epoch 5/100\n",
            "32/32 [==============================] - 4s 111ms/step - loss: 0.3366 - accuracy: 0.9013\n",
            "Epoch 6/100\n",
            "32/32 [==============================] - 4s 133ms/step - loss: 0.3267 - accuracy: 0.9061\n",
            "Epoch 7/100\n",
            "32/32 [==============================] - 3s 102ms/step - loss: 0.3337 - accuracy: 0.8981\n",
            "Epoch 8/100\n",
            "32/32 [==============================] - 3s 96ms/step - loss: 0.3228 - accuracy: 0.9036\n",
            "Epoch 9/100\n",
            "32/32 [==============================] - 4s 115ms/step - loss: 0.3391 - accuracy: 0.8954\n",
            "Epoch 10/100\n",
            "32/32 [==============================] - 4s 130ms/step - loss: 0.3312 - accuracy: 0.9015\n",
            "Epoch 11/100\n",
            "32/32 [==============================] - 3s 107ms/step - loss: 0.3352 - accuracy: 0.9000\n",
            "Epoch 12/100\n",
            "32/32 [==============================] - 3s 97ms/step - loss: 0.3373 - accuracy: 0.8931\n",
            "Epoch 13/100\n",
            "32/32 [==============================] - 4s 128ms/step - loss: 0.3305 - accuracy: 0.8981\n",
            "Epoch 14/100\n",
            "32/32 [==============================] - 4s 114ms/step - loss: 0.3237 - accuracy: 0.9043\n",
            "Epoch 15/100\n",
            "32/32 [==============================] - 3s 97ms/step - loss: 0.3130 - accuracy: 0.9079\n",
            "Epoch 16/100\n",
            "32/32 [==============================] - 4s 134ms/step - loss: 0.3236 - accuracy: 0.9061\n",
            "Epoch 17/100\n",
            "32/32 [==============================] - 3s 106ms/step - loss: 0.3200 - accuracy: 0.9070\n",
            "Epoch 18/100\n",
            "32/32 [==============================] - 3s 95ms/step - loss: 0.3204 - accuracy: 0.9020\n",
            "Epoch 19/100\n",
            "32/32 [==============================] - 4s 111ms/step - loss: 0.3119 - accuracy: 0.9068\n",
            "Epoch 20/100\n",
            "32/32 [==============================] - 4s 130ms/step - loss: 0.3198 - accuracy: 0.9011\n",
            "Epoch 21/100\n",
            "32/32 [==============================] - 3s 96ms/step - loss: 0.3131 - accuracy: 0.9078\n",
            "Epoch 22/100\n",
            "32/32 [==============================] - 3s 102ms/step - loss: 0.3075 - accuracy: 0.9062\n",
            "Epoch 23/100\n",
            "32/32 [==============================] - 4s 139ms/step - loss: 0.3007 - accuracy: 0.9154\n",
            "Epoch 24/100\n",
            "32/32 [==============================] - 3s 104ms/step - loss: 0.3084 - accuracy: 0.9087\n",
            "Epoch 25/100\n",
            "32/32 [==============================] - 3s 100ms/step - loss: 0.3154 - accuracy: 0.9064\n",
            "Epoch 26/100\n",
            "32/32 [==============================] - 4s 120ms/step - loss: 0.3017 - accuracy: 0.9106\n",
            "Epoch 27/100\n",
            "32/32 [==============================] - 4s 133ms/step - loss: 0.3084 - accuracy: 0.9106\n",
            "Epoch 28/100\n",
            "32/32 [==============================] - 3s 97ms/step - loss: 0.3053 - accuracy: 0.9109\n",
            "Epoch 29/100\n",
            "32/32 [==============================] - 3s 100ms/step - loss: 0.3086 - accuracy: 0.9121\n",
            "Epoch 30/100\n",
            "32/32 [==============================] - 5s 151ms/step - loss: 0.3094 - accuracy: 0.9075\n",
            "Epoch 31/100\n",
            "32/32 [==============================] - 3s 99ms/step - loss: 0.2974 - accuracy: 0.9150\n",
            "Epoch 32/100\n",
            "32/32 [==============================] - 3s 100ms/step - loss: 0.2866 - accuracy: 0.9166\n",
            "Epoch 33/100\n",
            "32/32 [==============================] - 5s 145ms/step - loss: 0.2934 - accuracy: 0.9141\n",
            "Epoch 34/100\n",
            "32/32 [==============================] - 3s 99ms/step - loss: 0.2886 - accuracy: 0.9129\n",
            "Epoch 35/100\n",
            "32/32 [==============================] - 3s 97ms/step - loss: 0.3019 - accuracy: 0.9135\n",
            "Epoch 36/100\n",
            "32/32 [==============================] - 5s 146ms/step - loss: 0.2849 - accuracy: 0.9175\n",
            "Epoch 37/100\n",
            "32/32 [==============================] - 3s 97ms/step - loss: 0.3022 - accuracy: 0.9109\n",
            "Epoch 38/100\n",
            "32/32 [==============================] - 3s 101ms/step - loss: 0.2955 - accuracy: 0.9134\n",
            "Epoch 39/100\n",
            "32/32 [==============================] - 3s 109ms/step - loss: 0.2895 - accuracy: 0.9150\n",
            "Epoch 40/100\n",
            "32/32 [==============================] - 4s 133ms/step - loss: 0.2917 - accuracy: 0.9170\n",
            "Epoch 41/100\n",
            "32/32 [==============================] - 3s 96ms/step - loss: 0.2878 - accuracy: 0.9175\n",
            "Epoch 42/100\n",
            "32/32 [==============================] - 3s 98ms/step - loss: 0.2904 - accuracy: 0.9183\n",
            "Epoch 43/100\n",
            "32/32 [==============================] - 4s 112ms/step - loss: 0.3017 - accuracy: 0.9120\n",
            "Epoch 44/100\n",
            "32/32 [==============================] - 4s 132ms/step - loss: 0.2862 - accuracy: 0.9225\n",
            "Epoch 45/100\n",
            "32/32 [==============================] - 3s 97ms/step - loss: 0.2869 - accuracy: 0.9210\n",
            "Epoch 46/100\n",
            "32/32 [==============================] - 3s 97ms/step - loss: 0.2842 - accuracy: 0.9201\n",
            "Epoch 47/100\n",
            "32/32 [==============================] - 5s 149ms/step - loss: 0.2885 - accuracy: 0.9184\n",
            "Epoch 48/100\n",
            "32/32 [==============================] - 3s 99ms/step - loss: 0.2810 - accuracy: 0.9254\n",
            "Epoch 49/100\n",
            "32/32 [==============================] - 3s 105ms/step - loss: 0.2894 - accuracy: 0.9209\n",
            "Epoch 50/100\n",
            "32/32 [==============================] - 3s 105ms/step - loss: 0.2866 - accuracy: 0.9199\n",
            "Epoch 51/100\n",
            "32/32 [==============================] - 5s 142ms/step - loss: 0.2719 - accuracy: 0.9218\n",
            "Epoch 52/100\n",
            "32/32 [==============================] - 3s 98ms/step - loss: 0.2856 - accuracy: 0.9227\n",
            "Epoch 53/100\n",
            "32/32 [==============================] - 3s 97ms/step - loss: 0.2791 - accuracy: 0.9240\n",
            "Epoch 54/100\n",
            "32/32 [==============================] - 3s 107ms/step - loss: 0.2760 - accuracy: 0.9241\n",
            "Epoch 55/100\n",
            "32/32 [==============================] - 3s 98ms/step - loss: 0.2795 - accuracy: 0.9255\n",
            "Epoch 56/100\n",
            "32/32 [==============================] - 3s 98ms/step - loss: 0.2605 - accuracy: 0.9291\n",
            "Epoch 57/100\n",
            "32/32 [==============================] - 4s 126ms/step - loss: 0.2697 - accuracy: 0.9247\n",
            "Epoch 58/100\n",
            "32/32 [==============================] - 4s 119ms/step - loss: 0.2604 - accuracy: 0.9268\n",
            "Epoch 59/100\n",
            "32/32 [==============================] - 3s 98ms/step - loss: 0.2701 - accuracy: 0.9262\n",
            "Epoch 60/100\n",
            "32/32 [==============================] - 3s 98ms/step - loss: 0.2638 - accuracy: 0.9294\n",
            "Epoch 61/100\n",
            "32/32 [==============================] - 4s 132ms/step - loss: 0.2653 - accuracy: 0.9236\n",
            "Epoch 62/100\n",
            "32/32 [==============================] - 3s 96ms/step - loss: 0.2620 - accuracy: 0.9277\n",
            "Epoch 63/100\n",
            "32/32 [==============================] - 3s 99ms/step - loss: 0.2746 - accuracy: 0.9243\n",
            "Epoch 64/100\n",
            "32/32 [==============================] - 3s 96ms/step - loss: 0.2597 - accuracy: 0.9296\n",
            "Epoch 65/100\n",
            "32/32 [==============================] - 4s 109ms/step - loss: 0.2601 - accuracy: 0.9280\n",
            "Epoch 66/100\n",
            "32/32 [==============================] - 3s 98ms/step - loss: 0.2763 - accuracy: 0.9225\n",
            "Epoch 67/100\n",
            "32/32 [==============================] - 3s 102ms/step - loss: 0.2785 - accuracy: 0.9221\n",
            "Epoch 68/100\n",
            "32/32 [==============================] - 3s 99ms/step - loss: 0.2677 - accuracy: 0.9255\n",
            "Epoch 69/100\n",
            "32/32 [==============================] - 3s 97ms/step - loss: 0.2604 - accuracy: 0.9265\n",
            "Epoch 70/100\n",
            "32/32 [==============================] - 4s 121ms/step - loss: 0.2669 - accuracy: 0.9289\n",
            "Epoch 71/100\n",
            "32/32 [==============================] - 4s 120ms/step - loss: 0.2539 - accuracy: 0.9315\n",
            "Epoch 72/100\n",
            "32/32 [==============================] - 3s 97ms/step - loss: 0.2606 - accuracy: 0.9269\n",
            "Epoch 73/100\n",
            "32/32 [==============================] - 3s 97ms/step - loss: 0.2639 - accuracy: 0.9276\n",
            "Epoch 74/100\n",
            "32/32 [==============================] - 5s 144ms/step - loss: 0.2550 - accuracy: 0.9316\n",
            "Epoch 75/100\n",
            "32/32 [==============================] - 3s 98ms/step - loss: 0.2552 - accuracy: 0.9298\n",
            "Epoch 76/100\n",
            "32/32 [==============================] - 3s 98ms/step - loss: 0.2500 - accuracy: 0.9321\n",
            "Epoch 77/100\n",
            "32/32 [==============================] - 4s 111ms/step - loss: 0.2618 - accuracy: 0.9250\n",
            "Epoch 78/100\n",
            "32/32 [==============================] - 3s 98ms/step - loss: 0.2594 - accuracy: 0.9349\n",
            "Epoch 79/100\n",
            "32/32 [==============================] - 4s 114ms/step - loss: 0.2513 - accuracy: 0.9360\n",
            "Epoch 80/100\n",
            "32/32 [==============================] - 3s 98ms/step - loss: 0.2487 - accuracy: 0.9364\n",
            "Epoch 81/100\n",
            "32/32 [==============================] - 3s 97ms/step - loss: 0.2458 - accuracy: 0.9334\n",
            "Epoch 82/100\n",
            "32/32 [==============================] - 4s 125ms/step - loss: 0.2594 - accuracy: 0.9327\n",
            "Epoch 83/100\n",
            "32/32 [==============================] - 3s 95ms/step - loss: 0.2479 - accuracy: 0.9369\n",
            "Epoch 84/100\n",
            "32/32 [==============================] - 3s 102ms/step - loss: 0.2397 - accuracy: 0.9352\n",
            "Epoch 85/100\n",
            "32/32 [==============================] - 4s 134ms/step - loss: 0.2517 - accuracy: 0.9355\n",
            "Epoch 86/100\n",
            "32/32 [==============================] - 4s 110ms/step - loss: 0.2527 - accuracy: 0.9320\n",
            "Epoch 87/100\n",
            "32/32 [==============================] - 3s 97ms/step - loss: 0.2493 - accuracy: 0.9316\n",
            "Epoch 88/100\n",
            "32/32 [==============================] - 4s 114ms/step - loss: 0.2540 - accuracy: 0.9330\n",
            "Epoch 89/100\n",
            "32/32 [==============================] - 4s 130ms/step - loss: 0.2442 - accuracy: 0.9374\n",
            "Epoch 90/100\n",
            "32/32 [==============================] - 3s 96ms/step - loss: 0.2426 - accuracy: 0.9369\n",
            "Epoch 91/100\n",
            "32/32 [==============================] - 3s 98ms/step - loss: 0.2478 - accuracy: 0.9348\n",
            "Epoch 92/100\n",
            "32/32 [==============================] - 3s 106ms/step - loss: 0.2457 - accuracy: 0.9345\n",
            "Epoch 93/100\n",
            "32/32 [==============================] - 3s 101ms/step - loss: 0.2386 - accuracy: 0.9374\n",
            "Epoch 94/100\n",
            "32/32 [==============================] - 3s 109ms/step - loss: 0.2426 - accuracy: 0.9396\n",
            "Epoch 95/100\n",
            "32/32 [==============================] - 4s 138ms/step - loss: 0.2395 - accuracy: 0.9385\n",
            "Epoch 96/100\n",
            "32/32 [==============================] - 3s 97ms/step - loss: 0.2443 - accuracy: 0.9360\n",
            "Epoch 97/100\n",
            "32/32 [==============================] - 3s 98ms/step - loss: 0.2326 - accuracy: 0.9384\n",
            "Epoch 98/100\n",
            "32/32 [==============================] - 5s 144ms/step - loss: 0.2507 - accuracy: 0.9336\n",
            "Epoch 99/100\n",
            "32/32 [==============================] - 3s 97ms/step - loss: 0.2412 - accuracy: 0.9352\n",
            "Epoch 100/100\n",
            "32/32 [==============================] - 3s 97ms/step - loss: 0.2399 - accuracy: 0.9400\n"
          ]
        }
      ]
    },
    {
      "cell_type": "code",
      "source": [
        "model.save('model.h5')"
      ],
      "metadata": {
        "id": "n1ftavTr66Ph"
      },
      "execution_count": null,
      "outputs": []
    }
  ]
}